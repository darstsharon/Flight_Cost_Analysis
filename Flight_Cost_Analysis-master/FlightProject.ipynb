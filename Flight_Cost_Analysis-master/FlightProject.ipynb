{
 "cells": [
  {
   "cell_type": "markdown",
   "metadata": {},
   "source": [
    "# Flight Analysis\n"
   ]
  },
  {
   "cell_type": "code",
   "execution_count": 1,
   "metadata": {},
   "outputs": [],
   "source": [
    "#Import dependencies\n",
    "%matplotlib inline\n",
    "import matplotlib.pyplot as plt\n",
    "import pandas as pd\n",
    "import numpy as np\n",
    "import seaborn as sns\n",
    "import scipy.stats as stats\n"
   ]
  },
  {
   "cell_type": "code",
   "execution_count": 2,
   "metadata": {},
   "outputs": [],
   "source": [
    "# Read the Data\n",
    "flightdata = pd.read_csv(\"data/avgaf.csv\")\n",
    "passengerdata = pd.read_csv(\"data/ps.csv\")"
   ]
  },
  {
   "cell_type": "code",
   "execution_count": 3,
   "metadata": {},
   "outputs": [
    {
     "data": {
      "text/html": [
       "<div>\n",
       "<style scoped>\n",
       "    .dataframe tbody tr th:only-of-type {\n",
       "        vertical-align: middle;\n",
       "    }\n",
       "\n",
       "    .dataframe tbody tr th {\n",
       "        vertical-align: top;\n",
       "    }\n",
       "\n",
       "    .dataframe thead th {\n",
       "        text-align: right;\n",
       "    }\n",
       "</style>\n",
       "<table border=\"1\" class=\"dataframe\">\n",
       "  <thead>\n",
       "    <tr style=\"text-align: right;\">\n",
       "      <th></th>\n",
       "      <th>year</th>\n",
       "      <th>passengerrank</th>\n",
       "      <th>airportcode</th>\n",
       "      <th>airportname</th>\n",
       "      <th>cityname</th>\n",
       "      <th>statename</th>\n",
       "      <th>avgfare</th>\n",
       "      <th>inflationadj</th>\n",
       "      <th>passengersample</th>\n",
       "    </tr>\n",
       "  </thead>\n",
       "  <tbody>\n",
       "    <tr>\n",
       "      <th>0</th>\n",
       "      <td>2008</td>\n",
       "      <td>410</td>\n",
       "      <td>AHN</td>\n",
       "      <td>Athens/Ben Epps</td>\n",
       "      <td>Athens</td>\n",
       "      <td>GA</td>\n",
       "      <td>487.26</td>\n",
       "      <td>568.29</td>\n",
       "      <td>0</td>\n",
       "    </tr>\n",
       "    <tr>\n",
       "      <th>1</th>\n",
       "      <td>2008</td>\n",
       "      <td>410</td>\n",
       "      <td>AKB</td>\n",
       "      <td>Atka Airport</td>\n",
       "      <td>Atka</td>\n",
       "      <td>AK</td>\n",
       "      <td>1284.33</td>\n",
       "      <td>1497.92</td>\n",
       "      <td>0</td>\n",
       "    </tr>\n",
       "    <tr>\n",
       "      <th>2</th>\n",
       "      <td>2008</td>\n",
       "      <td>410</td>\n",
       "      <td>AOO</td>\n",
       "      <td>Altoona-Blair County</td>\n",
       "      <td>Altoona</td>\n",
       "      <td>PA</td>\n",
       "      <td>421.49</td>\n",
       "      <td>491.58</td>\n",
       "      <td>0</td>\n",
       "    </tr>\n",
       "    <tr>\n",
       "      <th>3</th>\n",
       "      <td>2008</td>\n",
       "      <td>410</td>\n",
       "      <td>APF</td>\n",
       "      <td>Naples Municipal</td>\n",
       "      <td>Naples</td>\n",
       "      <td>FL</td>\n",
       "      <td>381.18</td>\n",
       "      <td>444.57</td>\n",
       "      <td>0</td>\n",
       "    </tr>\n",
       "    <tr>\n",
       "      <th>4</th>\n",
       "      <td>2008</td>\n",
       "      <td>410</td>\n",
       "      <td>BED</td>\n",
       "      <td>Laurence G Hanscom Field</td>\n",
       "      <td>Bedford</td>\n",
       "      <td>MA</td>\n",
       "      <td>169.80</td>\n",
       "      <td>198.04</td>\n",
       "      <td>0</td>\n",
       "    </tr>\n",
       "  </tbody>\n",
       "</table>\n",
       "</div>"
      ],
      "text/plain": [
       "   year  passengerrank airportcode               airportname cityname  \\\n",
       "0  2008            410         AHN           Athens/Ben Epps   Athens   \n",
       "1  2008            410         AKB              Atka Airport     Atka   \n",
       "2  2008            410         AOO      Altoona-Blair County  Altoona   \n",
       "3  2008            410         APF          Naples Municipal   Naples   \n",
       "4  2008            410         BED  Laurence G Hanscom Field  Bedford   \n",
       "\n",
       "  statename  avgfare  inflationadj  passengersample  \n",
       "0        GA   487.26        568.29                0  \n",
       "1        AK  1284.33       1497.92                0  \n",
       "2        PA   421.49        491.58                0  \n",
       "3        FL   381.18        444.57                0  \n",
       "4        MA   169.80        198.04                0  "
      ]
     },
     "execution_count": 3,
     "metadata": {},
     "output_type": "execute_result"
    }
   ],
   "source": [
    "flightdata.head()"
   ]
  },
  {
   "cell_type": "code",
   "execution_count": null,
   "metadata": {},
   "outputs": [],
   "source": [
    "#passengerdata.head()"
   ]
  },
  {
   "cell_type": "code",
   "execution_count": null,
   "metadata": {},
   "outputs": [],
   "source": [
    "passenger=passengerdata.rename(columns={'passengers':'Passengers','year':'Year','quarter':'Quarter'})\n",
    "#passenger.head()"
   ]
  },
  {
   "cell_type": "code",
   "execution_count": null,
   "metadata": {},
   "outputs": [],
   "source": [
    "#Clean the passenger data\n",
    "passenger.fillna(0)"
   ]
  },
  {
   "cell_type": "code",
   "execution_count": null,
   "metadata": {},
   "outputs": [],
   "source": [
    "passenger_df = pd.DataFrame(passenger)\n",
    "\n",
    "#passenger_df\n"
   ]
  },
  {
   "cell_type": "code",
   "execution_count": null,
   "metadata": {},
   "outputs": [],
   "source": [
    "# Filter the DataFrame down only to those columns to chart\n",
    "yearly_passengers = passenger_df[[\"Passengers\",\"Year\"]]\n",
    "\n",
    "# Set the index to be \"State\" so they will be used as labels\n",
    "yearly_passengers = yearly_passengers.set_index(\"Passengers\")\n",
    "\n",
    "#yearly_passengers"
   ]
  },
  {
   "cell_type": "code",
   "execution_count": null,
   "metadata": {},
   "outputs": [],
   "source": [
    "# Labels for the sections of our pie chart\n",
    "Q4 = [\"2008\", \"2009\", \"2010\", \"2011\", \"2012\", \"2013\", \"2014\", \"2015\", \"2016\", \"2017\", \"2018\"]\n",
    "\n",
    "# The values of each section of the pie chart\n",
    "traffic = [154916771, 154496705, 161405206, 161651239, 160124181, 162945857, 167994939, 178543401, 182735291, 190561921, 133190426]\n",
    "\n",
    "# The colors of each section of the pie chart\n",
    "colors = [\"red\", \"orange\", \"lightcoral\", \"lightskyblue\", \"yellow\", \"green\", \"pink\", \"yellowgreen\", \"coral\", \"lightgreen\", \"blue\"]\n",
    "\n",
    "# Tells matplotlib to seperate the \"Python\" section from the others\n",
    "explode = (0, 0, 0, 0, 0, 0, 0, 0, 0, 0.1, 0)\n",
    "\n",
    "plt.pie(traffic, explode=explode, labels=Q4, colors=colors,\n",
    "        autopct=\"%1.1f%%\", shadow=True, startangle=60)\n",
    "\n",
    "plt.axis(\"equal\")\n",
    "\n",
    "plt.title(\"% of Q4 Airline Traffic '08-18'\")\n",
    "\n",
    "\n"
   ]
  },
  {
   "cell_type": "code",
   "execution_count": null,
   "metadata": {},
   "outputs": [],
   "source": []
  },
  {
   "cell_type": "code",
   "execution_count": null,
   "metadata": {},
   "outputs": [],
   "source": [
    "\n",
    "\n",
    "# Split up our data into groups based upon 'gender'\n",
    "quarter_groups = passenger.groupby('Quarter')\n",
    "\n",
    "# Find out how many of each gender took bike trips\n",
    "yearly_count = quarter_groups['Passengers'].sum()\n",
    "\n",
    "\n",
    "\n",
    "\n",
    "\n",
    "# Chart our data, give it a title, and label the axes\n",
    "year_chart = yearly_count.plot(kind=\"bar\", title=\"Passengers by Quarter '08-'18\")\n",
    "year_chart.set_xlabel(\"Quarter\")\n",
    "year_chart.set_ylabel(\"Passengers\")\n",
    "\n",
    "\n",
    "\n",
    "\n",
    "\n",
    "plt.xticks(rotation=360)\n",
    "\n",
    "\n",
    "\n",
    "\n",
    "plt.show()"
   ]
  },
  {
   "cell_type": "code",
   "execution_count": null,
   "metadata": {},
   "outputs": [],
   "source": [
    "# Chart our data, give it a title, and label the axes\n",
    "year_chart = yearly_count.plot(kind=\"bar\", title=\"Passengers by Quarter '08-'18\")\n",
    "year_chart.set_xlabel(\"Quarter\")\n",
    "year_chart.set_ylabel(\"Passengers\")\n",
    "\n",
    "\n",
    "\n",
    "plt.xticks(rotation=360)\n",
    "\n",
    "#plt.savefig(\"Images/Total_Passengers_By_Quarter.png\")\n",
    "\n",
    "\n",
    "plt.show()"
   ]
  },
  {
   "cell_type": "code",
   "execution_count": null,
   "metadata": {},
   "outputs": [],
   "source": [
    "# Rename columns \n",
    "flight = flightdata.rename(columns={'year' : 'Year','airportname' : 'Airport','cityname' : 'City','statename' : 'State','avgfare' : 'AvgFare','inflationadj' : 'InflationAdj','passengersample' : 'Passenger'})\n"
   ]
  },
  {
   "cell_type": "code",
   "execution_count": null,
   "metadata": {},
   "outputs": [],
   "source": [
    "#new dataframe\n",
    "select_columns = [\"Year\", \"Airport\", \"City\", \"State\", \"AvgFare\", \"InflationAdj\", \"Passenger\"]\n",
    "select_columns\n",
    "flight = flight[select_columns]\n",
    "flight.head()"
   ]
  },
  {
   "cell_type": "code",
   "execution_count": null,
   "metadata": {},
   "outputs": [],
   "source": [
    "#Clean the flight data\n",
    "flight.fillna(0)"
   ]
  },
  {
   "cell_type": "code",
   "execution_count": null,
   "metadata": {},
   "outputs": [],
   "source": [
    "flight_df = pd.DataFrame(flight)\n",
    "\n",
    "#flight_df\n"
   ]
  },
  {
   "cell_type": "code",
   "execution_count": null,
   "metadata": {},
   "outputs": [],
   "source": []
  },
  {
   "cell_type": "code",
   "execution_count": null,
   "metadata": {},
   "outputs": [],
   "source": [
    "\n",
    "# Split up our data into groups based upon 'gender'\n",
    "average_fare = flight_df.groupby('Year')\n",
    "\n",
    "# Find out how many of each gender took bike trips\n",
    "yearly_count = average_fare['AvgFare'].mean()\n",
    "\n",
    "\n",
    "\n",
    "# Chart our data, give it a title, and label the axes\n",
    "year_chart = yearly_count.plot(kind=\"line\", title=\"Average Ticket Price Pre Adjusted 2008-2018\")\n",
    "plt.grid( b= True)\n",
    "year_chart.set_xlabel(\"Year\")\n",
    "year_chart.set_ylabel(\"Average Airline Ticket $\")\n",
    "\n",
    "\n",
    "\n",
    "plt.xticks(rotation=360)\n",
    "\n",
    "\n",
    "\n",
    "#plt.savefig(\"Images/Average_price.png\")\n",
    "\n",
    "plt.show()"
   ]
  },
  {
   "cell_type": "code",
   "execution_count": null,
   "metadata": {},
   "outputs": [],
   "source": [
    "\n",
    "# Split up our data into groups based upon 'gender'\n",
    "passengers_avg = flight_df.groupby('Year')\n",
    "\n",
    "# Find out how many of each gender took bike trips\n",
    "adjusted_count = passengers_avg['Passenger'].mean()\n",
    "\n",
    "\n",
    "\n",
    "# Chart our data, give it a title, and label the axes\n",
    "year_chart = adjusted_count.plot(kind=\"line\", title=\"Average Passengers Traveling by Year 2008-2018\")\n",
    "year_chart.set_xlabel(\"Years\")\n",
    "year_chart.set_ylabel(\"Avg Passengers\")\n",
    "plt.grid( b= True)\n",
    "\n",
    "\n",
    "\n",
    "\n",
    "plt.xticks(rotation=360)\n",
    "\n",
    "\n",
    "#plt.savefig(\"Images/adjusted_Price.png\")\n",
    "\n",
    "plt.show()"
   ]
  },
  {
   "cell_type": "code",
   "execution_count": null,
   "metadata": {},
   "outputs": [],
   "source": [
    "flight_df[\"AvgFare\"].mean()\n"
   ]
  },
  {
   "cell_type": "code",
   "execution_count": null,
   "metadata": {},
   "outputs": [],
   "source": [
    "flight_df[\"InflationAdj\"].mean()\n"
   ]
  },
  {
   "cell_type": "code",
   "execution_count": null,
   "metadata": {},
   "outputs": [],
   "source": []
  }
 ],
 "metadata": {
  "kernelspec": {
   "display_name": "Python 3",
   "language": "python",
   "name": "python3"
  },
  "language_info": {
   "codemirror_mode": {
    "name": "ipython",
    "version": 3
   },
   "file_extension": ".py",
   "mimetype": "text/x-python",
   "name": "python",
   "nbconvert_exporter": "python",
   "pygments_lexer": "ipython3",
   "version": "3.6.7"
  }
 },
 "nbformat": 4,
 "nbformat_minor": 2
}
